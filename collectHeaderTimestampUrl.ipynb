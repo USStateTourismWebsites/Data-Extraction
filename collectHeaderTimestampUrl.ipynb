{
 "cells": [
  {
   "cell_type": "code",
   "execution_count": 4,
   "metadata": {},
   "outputs": [
    {
     "name": "stdout",
     "output_type": "stream",
     "text": [
      "done\n"
     ]
    }
   ],
   "source": [
    "import pandas as pd\n",
    "from bs4 import BeautifulSoup\n",
    "import json\n",
    "\n",
    "#df = pd.read_parquet(\"../part-00000-ae0248c1-9d9a-4943-8350-71a5267f9c51-c000.gz.parquet\", engine='pyarrow')\n",
    "#row, column = df.shape\n",
    "#row\n",
    "#df = pd.read_parquet(\"../part-00000-96ac3cdd-9fe4-4189-a066-f7b73d199c16-c000.gz.parquet\", engine='pyarrow')\n",
    "df = pd.read_parquet(\"../part-00000-8bcd0748-094a-4de0-8574-2328d1833c16-c000.gz.parquet\", engine='pyarrow')\n",
    "#df2 = pd.read_parquet(\"../part-00000-8ef97ec5-2cb7-4b7a-8a07-0935e967ee8e-c000.gz.parquet\", engine='pyarrow')\n",
    "#df.to_csv(r'/Users/ahmadayub/Documents/CS 4624/excel/parquet4.csv')\n",
    "#df\n",
    "print(\"done\")"
   ]
  },
  {
   "cell_type": "code",
   "execution_count": 10,
   "metadata": {},
   "outputs": [
    {
     "data": {
      "text/plain": [
       "'20170617'"
      ]
     },
     "execution_count": 10,
     "metadata": {},
     "output_type": "execute_result"
    }
   ],
   "source": [
    "df.timestamp[0]"
   ]
  },
  {
   "cell_type": "code",
   "execution_count": null,
   "metadata": {},
   "outputs": [],
   "source": [
    "df['timestamp'] = pd.to_datetime(df['timestamp'], infer_datetime_format=True)"
   ]
  },
  {
   "cell_type": "code",
   "execution_count": 27,
   "metadata": {},
   "outputs": [],
   "source": [
    "def headerAndTime(df):\n",
    "#     my_list = []\n",
    "    tableInfo = []\n",
    "    errors = []\n",
    "    for row in range(df.shape[0]):\n",
    "        try:\n",
    "    #         my_list.append(soup.title.text)\n",
    "    #         headerTimestamp[soup.title.text] = row['timestamp']\n",
    "            quickDict = {}\n",
    "            quickDict[\"Row\"] = row\n",
    "            soup = BeautifulSoup(df.payload[row], 'html.parser')\n",
    "            quickDict[\"Header\"] = soup.title.text\n",
    "            quickDict[\"Timestamp\"] = df.timestamp[row]\n",
    "            quickDict[\"URL\"] = df.originalUrl[row]\n",
    "            tableInfo.append(quickDict)\n",
    "        except AttributeError:\n",
    "            #print(\"\\nerror in row \")\n",
    "            errors.append(row)\n",
    "    return tableInfo, errors"
   ]
  },
  {
   "cell_type": "code",
   "execution_count": 28,
   "metadata": {},
   "outputs": [],
   "source": [
    "tableInfo, errors = headerAndTime(df)"
   ]
  },
  {
   "cell_type": "code",
   "execution_count": 30,
   "metadata": {},
   "outputs": [
    {
     "name": "stdout",
     "output_type": "stream",
     "text": [
      "13691\n"
     ]
    }
   ],
   "source": [
    "print(len(errors))"
   ]
  },
  {
   "cell_type": "code",
   "execution_count": 31,
   "metadata": {},
   "outputs": [],
   "source": [
    "import csv\n",
    "csv_columns = ['Row','Header','Timestamp', 'URL']\n",
    "csv_file = \"headerTimestampUrl.csv\"\n",
    "try:\n",
    "    with open(csv_file, 'w') as csvfile:\n",
    "        writer = csv.DictWriter(csvfile, fieldnames=csv_columns)\n",
    "        writer.writeheader()\n",
    "        for data in tableInfo:\n",
    "            writer.writerow(data)\n",
    "except IOError:\n",
    "    print(\"I/O error\")"
   ]
  }
 ],
 "metadata": {
  "kernelspec": {
   "display_name": "Python 3",
   "language": "python",
   "name": "python3"
  },
  "language_info": {
   "codemirror_mode": {
    "name": "ipython",
    "version": 3
   },
   "file_extension": ".py",
   "mimetype": "text/x-python",
   "name": "python",
   "nbconvert_exporter": "python",
   "pygments_lexer": "ipython3",
   "version": "3.7.4"
  }
 },
 "nbformat": 4,
 "nbformat_minor": 2
}
